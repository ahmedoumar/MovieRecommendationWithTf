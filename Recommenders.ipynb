{
  "nbformat": 4,
  "nbformat_minor": 0,
  "metadata": {
    "colab": {
      "name": "Recommenders.ipynb",
      "provenance": [],
      "collapsed_sections": [],
      "authorship_tag": "ABX9TyPRUBTcB8No5opPiJxYklGM",
      "include_colab_link": true
    },
    "kernelspec": {
      "name": "python3",
      "display_name": "Python 3"
    },
    "language_info": {
      "name": "python"
    },
    "accelerator": "GPU"
  },
  "cells": [
    {
      "cell_type": "markdown",
      "metadata": {
        "id": "view-in-github",
        "colab_type": "text"
      },
      "source": [
        "<a href=\"https://colab.research.google.com/github/ahmedoumar/MovieRecommendationWithTf/blob/main/Recommenders.ipynb\" target=\"_parent\"><img src=\"https://colab.research.google.com/assets/colab-badge.svg\" alt=\"Open In Colab\"/></a>"
      ]
    },
    {
      "cell_type": "code",
      "source": [
        "!pip install -q tensorflow-recommenders"
      ],
      "metadata": {
        "id": "AzSb3Tvv4B4a"
      },
      "execution_count": null,
      "outputs": []
    },
    {
      "cell_type": "code",
      "execution_count": null,
      "metadata": {
        "id": "pTT-TsPR3hrm"
      },
      "outputs": [],
      "source": [
        "from typing import Dict, Text\n",
        "\n",
        "import numpy as np\n",
        "import tensorflow as tf\n",
        "\n",
        "import tensorflow_datasets as tfds\n",
        "import tensorflow_recommenders as tfrs"
      ]
    },
    {
      "cell_type": "code",
      "source": [
        "# Ratings data:\n",
        "ratings = tfds.load('movielens/100k-ratings', split='train')\n",
        "# Features of all the available movies:\n",
        "\n",
        "movies = tfds.load('movielens/100k-movies', split=\"train\")\n",
        "\n",
        "\n",
        "ratings = ratings.map(lambda x: {\n",
        "    'movie_title': x['movie_title'],\n",
        "    'user_id': x['user_id']\n",
        "})\n",
        "\n",
        "movies = movies.map(lambda x: x['movie_title'])"
      ],
      "metadata": {
        "id": "gPawEuxs328T"
      },
      "execution_count": null,
      "outputs": []
    },
    {
      "cell_type": "code",
      "source": [
        "user_ids_vocabulary = tf.keras.layers.StringLookup(mask_token=None)\n",
        "user_ids_vocabulary.adapt(ratings.map(lambda x: x['user_id']))\n",
        "\n",
        "movie_titles_vocabulary = tf.keras.layers.StringLookup(mask_token=None)\n",
        "movie_titles_vocabulary.adapt(movies)"
      ],
      "metadata": {
        "id": "uwDMUJG74yE-"
      },
      "execution_count": null,
      "outputs": []
    },
    {
      "cell_type": "markdown",
      "source": [
        "## Define a Model"
      ],
      "metadata": {
        "id": "wl7Jq5-26Xs9"
      }
    },
    {
      "cell_type": "code",
      "source": [
        "class MovieLensModel(tfrs.Model):\n",
        "    \"\"\" We derive from a custom base class to help reduce boilerplat.\n",
        "    under the hood these are still plain keras models\"\"\"\n",
        "\n",
        "    def __init__(\n",
        "        self,\n",
        "        user_model: tf.keras.Model,\n",
        "        movie_model: tf.keras.Model,\n",
        "        task: tfrs.tasks.Retrieval):\n",
        "\n",
        "        super().__init__()\n",
        "\n",
        "        # Set up user and movie representations:\n",
        "        self.user_model = user_model\n",
        "        self.movie_model = movie_model\n",
        "\n",
        "        # Set up a retrieval task:\n",
        "        self.task = task\n",
        "\n",
        "    def compute_loss(self, features: Dict[Text, tf.Tensor], training=False) -> tf.Tensor:\n",
        "        # Define how the loss is computed:\n",
        "\n",
        "        user_embeddings = self.user_model(features['user_id'])\n",
        "        movie_embeddings = self.movie_model(features['movie_title'])\n",
        "\n",
        "        return self.task(user_embeddings, movie_embeddings)\n"
      ],
      "metadata": {
        "id": "qG8SBpKR6KhJ"
      },
      "execution_count": null,
      "outputs": []
    },
    {
      "cell_type": "code",
      "source": [
        "# Define user and movie models:\n",
        "user_model = tf.keras.Sequential([\n",
        "                                  user_ids_vocabulary,\n",
        "                                  tf.keras.layers.Embedding(user_ids_vocabulary.vocab_size(), 64)\n",
        "])\n",
        "\n",
        "movie_model = tf.keras.Sequential([\n",
        "                                   movie_titles_vocabulary,\n",
        "                                   tf.keras.layers.Embedding(movie_titles_vocabulary.vocab_size(), 64)\n",
        "])\n",
        "\n",
        "# Define your objectives:\n",
        "task = tfrs.tasks.Retrieval(metrics=tfrs.metrics.FactorizedTopK(movies.batch(128).map(movie_model)))"
      ],
      "metadata": {
        "colab": {
          "base_uri": "https://localhost:8080/"
        },
        "id": "ICbRqpXi8fYr",
        "outputId": "77a1f310-5f86-45d5-bfe0-f130f64e11c6"
      },
      "execution_count": null,
      "outputs": [
        {
          "output_type": "stream",
          "name": "stdout",
          "text": [
            "WARNING:tensorflow:vocab_size is deprecated, please use vocabulary_size.\n"
          ]
        },
        {
          "output_type": "stream",
          "name": "stderr",
          "text": [
            "WARNING:tensorflow:vocab_size is deprecated, please use vocabulary_size.\n"
          ]
        },
        {
          "output_type": "stream",
          "name": "stdout",
          "text": [
            "WARNING:tensorflow:vocab_size is deprecated, please use vocabulary_size.\n"
          ]
        },
        {
          "output_type": "stream",
          "name": "stderr",
          "text": [
            "WARNING:tensorflow:vocab_size is deprecated, please use vocabulary_size.\n"
          ]
        }
      ]
    },
    {
      "cell_type": "code",
      "source": [
        "# Create a retrieval model:\n",
        "model = MovieLensModel(user_model, movie_model, task)\n",
        "model.compile(optimizer=tf.keras.optimizers.Adagrad(.5))\n",
        "\n",
        "# Train for 3 epochs:\n",
        "hist = model.fit(ratings.batch(4096), epochs=3)\n",
        "\n",
        "# use brute force search to set up retrieval using the trained representations:\n",
        "\n",
        "index = tfrs.layers.factorized_top_k.BruteForce(model.user_model)\n",
        "index.index_from_dataset(\n",
        "    movies.batch(100).map(lambda title: (title, model.movie_model(title)))\n",
        ")\n",
        "\n",
        "# Get some recommendations :\n",
        "_, titles = index(np.array(['42']))\n",
        "\n",
        "print(f'Top 3 recommendations for user 42: {titles[0, :3]}')"
      ],
      "metadata": {
        "colab": {
          "base_uri": "https://localhost:8080/"
        },
        "id": "ZkY6_wGb_YIF",
        "outputId": "8399ebcf-1144-4aa6-f737-40cc21f0a189"
      },
      "execution_count": null,
      "outputs": [
        {
          "output_type": "stream",
          "name": "stdout",
          "text": [
            "Epoch 1/3\n",
            "25/25 [==============================] - 17s 561ms/step - factorized_top_k/top_1_categorical_accuracy: 7.0000e-05 - factorized_top_k/top_5_categorical_accuracy: 0.0017 - factorized_top_k/top_10_categorical_accuracy: 0.0045 - factorized_top_k/top_50_categorical_accuracy: 0.0438 - factorized_top_k/top_100_categorical_accuracy: 0.1002 - loss: 33089.6005 - regularization_loss: 0.0000e+00 - total_loss: 33089.6005\n",
            "Epoch 2/3\n",
            "25/25 [==============================] - 14s 572ms/step - factorized_top_k/top_1_categorical_accuracy: 1.4000e-04 - factorized_top_k/top_5_categorical_accuracy: 0.0046 - factorized_top_k/top_10_categorical_accuracy: 0.0137 - factorized_top_k/top_50_categorical_accuracy: 0.1047 - factorized_top_k/top_100_categorical_accuracy: 0.2100 - loss: 31018.0282 - regularization_loss: 0.0000e+00 - total_loss: 31018.0282\n",
            "Epoch 3/3\n",
            "25/25 [==============================] - 14s 570ms/step - factorized_top_k/top_1_categorical_accuracy: 3.5000e-04 - factorized_top_k/top_5_categorical_accuracy: 0.0078 - factorized_top_k/top_10_categorical_accuracy: 0.0216 - factorized_top_k/top_50_categorical_accuracy: 0.1437 - factorized_top_k/top_100_categorical_accuracy: 0.2670 - loss: 30424.3294 - regularization_loss: 0.0000e+00 - total_loss: 30424.3294\n",
            "Top 3 recommendations for user 42: [b'Rent-a-Kid (1995)' b'Just Cause (1995)' b'Andre (1994)']\n"
          ]
        }
      ]
    },
    {
      "cell_type": "code",
      "source": [
        ""
      ],
      "metadata": {
        "id": "-tylSoldBKmn"
      },
      "execution_count": null,
      "outputs": []
    }
  ]
}